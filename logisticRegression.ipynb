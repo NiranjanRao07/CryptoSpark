{
 "cells": [
  {
   "cell_type": "code",
   "execution_count": 1,
   "id": "44254015",
   "metadata": {},
   "outputs": [],
   "source": [
    "# Import necessary libraries\n",
    "from pyspark.sql import SparkSession\n",
    "from pyspark.sql.functions import (\n",
    "    to_date, first, last, max as _max, min as _min, sum as _sum, avg, \n",
    "    input_file_name, regexp_extract, col, log, exp, when\n",
    ")\n",
    "from pyspark.sql.window import Window"
   ]
  },
  {
   "cell_type": "code",
   "execution_count": 2,
   "id": "947f7247",
   "metadata": {},
   "outputs": [],
   "source": [
    "# Create Spark session with necessary JARs for S3 access\n",
    "spark = SparkSession.builder \\\n",
    "    .appName(\"LinearRegressionModel\") \\\n",
    "    .config(\"spark.jars.packages\", \n",
    "            \"org.apache.hadoop:hadoop-aws:3.3.4,\"\n",
    "            \"com.amazonaws:aws-java-sdk-bundle:1.12.568\") \\\n",
    "    .config(\"spark.hadoop.fs.s3a.impl\", \"org.apache.hadoop.fs.s3a.S3AFileSystem\") \\\n",
    "    .config(\"spark.hadoop.fs.s3a.aws.credentials.provider\", \n",
    "            \"com.amazonaws.auth.profile.ProfileCredentialsProvider\") \\\n",
    "    .config(\"spark.hadoop.fs.s3a.endpoint\", \"s3.amazonaws.com\") \\\n",
    "        .config(\"spark.driver.memory\", \"8g\") \\\n",
    "        .config(\"spark.executor.memory\", \"8g\") \\\n",
    "    .getOrCreate()"
   ]
  },
  {
   "cell_type": "code",
   "execution_count": null,
   "id": "0ae42944",
   "metadata": {},
   "outputs": [
    {
     "name": "stdout",
     "output_type": "stream",
     "text": [
      "root\n",
      " |-- open: float (nullable = true)\n",
      " |-- high: float (nullable = true)\n",
      " |-- low: float (nullable = true)\n",
      " |-- close: float (nullable = true)\n",
      " |-- volume: float (nullable = true)\n",
      " |-- quote_asset_volume: float (nullable = true)\n",
      " |-- number_of_trades: integer (nullable = true)\n",
      " |-- taker_buy_base_asset_volume: float (nullable = true)\n",
      " |-- taker_buy_quote_asset_volume: float (nullable = true)\n",
      " |-- open_time: timestamp_ntz (nullable = true)\n",
      " |-- symbol: string (nullable = false)\n",
      " |-- date: date (nullable = true)\n",
      "\n",
      "+-------+-------+-------+-------+--------+------------------+----------------+---------------------------+----------------------------+-------------------+--------+----------+\n",
      "|   open|   high|    low|  close|  volume|quote_asset_volume|number_of_trades|taker_buy_base_asset_volume|taker_buy_quote_asset_volume|          open_time|  symbol|      date|\n",
      "+-------+-------+-------+-------+--------+------------------+----------------+---------------------------+----------------------------+-------------------+--------+----------+\n",
      "|4261.48|4261.48|4261.48|4261.48|1.775183|         7564.9067|               3|                   0.075183|                   320.39084|2017-08-17 04:00:00|BTC-USDT|2017-08-17|\n",
      "|4261.48|4261.48|4261.48|4261.48|     0.0|               0.0|               0|                        0.0|                         0.0|2017-08-17 04:01:00|BTC-USDT|2017-08-17|\n",
      "|4280.56|4280.56|4280.56|4280.56|0.261074|          1117.543|               2|                   0.261074|                    1117.543|2017-08-17 04:02:00|BTC-USDT|2017-08-17|\n",
      "|4261.48|4261.48|4261.48|4261.48|0.012008|         51.171852|               3|                   0.012008|                   51.171852|2017-08-17 04:03:00|BTC-USDT|2017-08-17|\n",
      "|4261.48|4261.48|4261.48|4261.48|0.140796|          599.9993|               1|                   0.140796|                    599.9993|2017-08-17 04:04:00|BTC-USDT|2017-08-17|\n",
      "+-------+-------+-------+-------+--------+------------------+----------------+---------------------------+----------------------------+-------------------+--------+----------+\n",
      "only showing top 5 rows\n",
      "\n"
     ]
    }
   ],
   "source": [
    "df = spark.read.parquet(\"s3a://cryptospark-dataset/archive/\")\n",
    "\n",
    "# Extract symbol from filename (e.g., 1INCH-BTC.parquet), and date from open_time column\n",
    "df = df.withColumn(\"symbol\", regexp_extract(input_file_name(), r\"([^/]+)\\.parquet$\", 1)) \\\n",
    "    .withColumn(\"date\", to_date(\"open_time\"))\n",
    "\n",
    "df.printSchema()\n",
    "df.show(5)"
   ]
  },
  {
   "cell_type": "markdown",
   "id": "b315ac95",
   "metadata": {},
   "source": [
    "# Preprocessing 0.1% of the data"
   ]
  },
  {
   "cell_type": "code",
   "execution_count": 4,
   "id": "5079f906",
   "metadata": {},
   "outputs": [],
   "source": [
    "# Drop unnecessary columns\n",
    "processed_df = df.drop(\"quote_asset_volume\", \"number_of_trades\", \"taker_buy_base_asset_volume\", \"taker_buy_quote_asset_volume\", \"open_time\")\n",
    "\n",
    "# Drop rows with nulls in critical columns\n",
    "processed_df = processed_df.dropna(subset=[\"open\", \"high\", \"low\", \"close\", \"volume\", \"date\"])"
   ]
  },
  {
   "cell_type": "code",
   "execution_count": 5,
   "id": "fe52da48",
   "metadata": {},
   "outputs": [
    {
     "name": "stdout",
     "output_type": "stream",
     "text": [
      "Rows: 1506508\n"
     ]
    }
   ],
   "source": [
    "sample_df = processed_df.sample(fraction=0.001, seed=42)\n",
    "print(\"Rows:\", sample_df.count())"
   ]
  },
  {
   "cell_type": "code",
   "execution_count": 6,
   "id": "ba2b7733",
   "metadata": {},
   "outputs": [],
   "source": [
    "# repartition the DataFrame by symbol to optimize for groupBy operations\n",
    "sample_df = sample_df.repartition(\"symbol\")\n",
    "\n",
    "sample_df = sample_df.groupBy(\"symbol\", \"date\").agg(\n",
    "    first(\"open\").alias(\"open\"),\n",
    "    last(\"close\").alias(\"close\"),\n",
    "    _max(\"high\").alias(\"high\"),\n",
    "    _min(\"low\").alias(\"low\"),\n",
    "    _sum(\"volume\").alias(\"volume\"),\n",
    ")"
   ]
  },
  {
   "cell_type": "code",
   "execution_count": 7,
   "id": "bd902bfe",
   "metadata": {},
   "outputs": [],
   "source": [
    "# Add additional features, like daily return and volatility\n",
    "sample_df = sample_df.withColumn(\"daily_return\", (col(\"close\") - col(\"open\")) / col(\"open\")) \\\n",
    "       .withColumn(\"volatility\", (col(\"high\") - col(\"low\")) / col(\"open\"))\n"
   ]
  },
  {
   "cell_type": "code",
   "execution_count": 8,
   "id": "1b4a0f51",
   "metadata": {},
   "outputs": [],
   "source": [
    "sample_df = sample_df.repartition(\"symbol\")\n",
    "\n",
    "# Cumulative return\n",
    "window_spec = Window.partitionBy(\"symbol\").orderBy(\"date\") \\\n",
    "    .rowsBetween(Window.unboundedPreceding, Window.currentRow)\n",
    "\n",
    "# Moving Averages (7-day and 30-day)\n",
    "window_7 = Window.partitionBy(\"symbol\").orderBy(\"date\").rowsBetween(-6, 0)\n",
    "window_30 = Window.partitionBy(\"symbol\").orderBy(\"date\").rowsBetween(-29, 0)\n",
    "\n",
    "# Calculate cumulative return and moving averages\n",
    "sample_df = sample_df.withColumn(\"ma_7\", avg(\"close\").over(window_7)) \\\n",
    "    .withColumn(\"ma_30\", avg(\"close\").over(window_30)) \\\n",
    "    .withColumn(\"cumulative_return\", exp(_sum(log(1 + col(\"daily_return\"))).over(window_spec)) - 1) "
   ]
  },
  {
   "cell_type": "code",
   "execution_count": 9,
   "id": "87651244",
   "metadata": {},
   "outputs": [],
   "source": [
    "# Drop rows with nulls in critical columns\n",
    "sample_df = sample_df.dropna(subset=[\"ma_7\", \"ma_30\", \"cumulative_return\", \"daily_return\", \"volatility\"])"
   ]
  },
  {
   "cell_type": "code",
   "execution_count": 10,
   "id": "dc9286ca",
   "metadata": {},
   "outputs": [
    {
     "name": "stdout",
     "output_type": "stream",
     "text": [
      "+----------+----------+------+------+------+------+------------------+--------------------+--------------------+------------------+------------------+--------------------+\n",
      "|    symbol|      date|  open| close|  high|   low|            volume|        daily_return|          volatility|              ma_7|             ma_30|   cumulative_return|\n",
      "+----------+----------+------+------+------+------+------------------+--------------------+--------------------+------------------+------------------+--------------------+\n",
      "|1INCH-USDT|2020-12-25|2.6776|   2.7|  2.71|2.6702|    53223.30078125| 0.00836575348857254|   0.014864031240172| 2.700000047683716| 2.700000047683716|0.008365753488572603|\n",
      "|1INCH-USDT|2020-12-26|2.0483|1.5802|2.0589|1.5757|     87674.1328125|-0.22853100844085333|  0.2359029764550744|2.1401000022888184|2.1401000022888184|-0.22207708903339185|\n",
      "|1INCH-USDT|2020-12-27|1.4774|1.3213|1.4775|1.2334|122158.81982421875|-0.10565853613665868| 0.16522267745817124|1.8671666781107585|1.8671666781107585| -0.3042712850332919|\n",
      "|1INCH-USDT|2020-12-29|0.8934| 0.887| 0.895| 0.887|   3594.3701171875|-0.00716363222720...| 0.00895450692568734|1.6221250146627426|1.6221250146627426| -0.3092552296772193|\n",
      "|1INCH-USDT|2020-12-30|0.9053|0.9062|0.9085|0.9038|   5310.3798828125|9.941130127214073E-4|0.005191654638858...|1.4789400100708008|1.4789400100708008| -0.3085685513125722|\n",
      "+----------+----------+------+------+------+------+------------------+--------------------+--------------------+------------------+------------------+--------------------+\n",
      "only showing top 5 rows\n",
      "\n"
     ]
    }
   ],
   "source": [
    "sample_df.cache()\n",
    "sample_df.show(5)  # Materialize cache"
   ]
  },
  {
   "cell_type": "markdown",
   "id": "f3473441",
   "metadata": {},
   "source": [
    "# Logistic Regression"
   ]
  },
  {
   "cell_type": "code",
   "execution_count": 11,
   "id": "cb3763b1",
   "metadata": {},
   "outputs": [],
   "source": [
    "from pyspark.ml.feature import VectorAssembler\n",
    "from pyspark.ml.classification import LogisticRegression\n",
    "from pyspark.ml import Pipeline\n",
    "from pyspark.ml.evaluation import BinaryClassificationEvaluator"
   ]
  },
  {
   "cell_type": "code",
   "execution_count": 12,
   "id": "91d60853",
   "metadata": {},
   "outputs": [],
   "source": [
    "# Create a new column \"label\" for classification\n",
    "final_df = sample_df.withColumn(\"label\", when(sample_df.daily_return > 0, 1).otherwise(0))"
   ]
  },
  {
   "cell_type": "code",
   "execution_count": 13,
   "id": "19933687",
   "metadata": {},
   "outputs": [],
   "source": [
    "# Select relevant columns for modeling\n",
    "numeric_features = ['open', 'high', 'low', 'close', 'volume', \n",
    "                    'volatility', 'ma_7', 'ma_30', 'cumulative_return']\n",
    "\n",
    "# Assemble features into a single vector\n",
    "assembler = VectorAssembler(inputCols=numeric_features, outputCol=\"features\")"
   ]
  },
  {
   "cell_type": "code",
   "execution_count": 14,
   "id": "dd7f1296",
   "metadata": {},
   "outputs": [],
   "source": [
    "# Create a Logistics Regression model\n",
    "lr = LogisticRegression(featuresCol='features', labelCol='label')"
   ]
  },
  {
   "cell_type": "code",
   "execution_count": 15,
   "id": "572493d8",
   "metadata": {},
   "outputs": [],
   "source": [
    "# Build a Pipeline for the model\n",
    "pipeline = Pipeline(stages=[assembler, lr])"
   ]
  },
  {
   "cell_type": "code",
   "execution_count": 16,
   "id": "0e497f1a",
   "metadata": {},
   "outputs": [],
   "source": [
    "# Split the data into training and test sets\n",
    "train_df, test_df = final_df.randomSplit([0.7, 0.3], seed=42)"
   ]
  },
  {
   "cell_type": "code",
   "execution_count": 17,
   "id": "ac6f608d",
   "metadata": {},
   "outputs": [],
   "source": [
    "# Train the linear regression model\n",
    "model = pipeline.fit(train_df)"
   ]
  },
  {
   "cell_type": "code",
   "execution_count": 18,
   "id": "bfc1e2f6",
   "metadata": {},
   "outputs": [
    {
     "name": "stdout",
     "output_type": "stream",
     "text": [
      "ROC-AUC: 0.6984\n"
     ]
    }
   ],
   "source": [
    "# Make predictions on the test set\n",
    "predictions = model.transform(test_df)\n",
    "\n",
    "# Evaluate the model using ROC-AUC\n",
    "evaluator = BinaryClassificationEvaluator(labelCol=\"label\", rawPredictionCol=\"rawPrediction\", metricName=\"areaUnderROC\")\n",
    "roc_auc = evaluator.evaluate(predictions)\n",
    "\n",
    "print(f\"ROC-AUC: {roc_auc:.4f}\")"
   ]
  },
  {
   "cell_type": "markdown",
   "id": "805e03c5",
   "metadata": {},
   "source": [
    "# Visualizations"
   ]
  },
  {
   "cell_type": "code",
   "execution_count": 19,
   "id": "0b29274a",
   "metadata": {},
   "outputs": [],
   "source": [
    "import matplotlib.pyplot as plt\n",
    "from sklearn.metrics import confusion_matrix, ConfusionMatrixDisplay, roc_curve, auc\n",
    "\n",
    "# Convert prediction results to a pandas DataFrame\n",
    "pandas_df = predictions.select(\"label\", \"prediction\", \"probability\").sample(fraction=0.1).toPandas()\n",
    "\n",
    "# Extract the probability for class 1\n",
    "pandas_df[\"prob_class_1\"] = pandas_df[\"probability\"].apply(lambda x: float(x[1]))"
   ]
  },
  {
   "cell_type": "code",
   "execution_count": 20,
   "id": "84e35865",
   "metadata": {},
   "outputs": [
    {
     "data": {
      "image/png": "[encoded data removed]",
      "text/plain": [
       "<Figure size 640x480 with 2 Axes>"
      ]
     },
     "metadata": {},
     "output_type": "display_data"
    }
   ],
   "source": [
    "# Confusion Matrix\n",
    "cm = confusion_matrix(pandas_df[\"label\"], pandas_df[\"prediction\"])\n",
    "disp = ConfusionMatrixDisplay(confusion_matrix=cm)\n",
    "disp.plot()\n",
    "plt.title(\"Confusion Matrix (10% Sample)\")\n",
    "plt.show()"
   ]
  },
  {
   "cell_type": "code",
   "execution_count": 21,
   "id": "f660c68f",
   "metadata": {},
   "outputs": [
    {
     "data": {
      "image/png": "[encoded data removed]",
      "text/plain": [
       "<Figure size 640x480 with 1 Axes>"
      ]
     },
     "metadata": {},
     "output_type": "display_data"
    }
   ],
   "source": [
    "# ROC Curve\n",
    "fpr, tpr, thresholds = roc_curve(pandas_df[\"label\"], pandas_df[\"prob_class_1\"])\n",
    "roc_auc = auc(fpr, tpr)\n",
    "\n",
    "plt.figure()\n",
    "plt.plot(fpr, tpr, label=f'ROC curve (area = {roc_auc:.2f})')\n",
    "plt.plot([0, 1], [0, 1], 'k--')  # Random guess line\n",
    "plt.xlabel('False Positive Rate')\n",
    "plt.ylabel('True Positive Rate')\n",
    "plt.title('ROC Curve (10% Sample)')\n",
    "plt.legend(loc=\"lower right\")\n",
    "plt.show()"
   ]
  },
  {
   "cell_type": "markdown",
   "id": "bf8001fc",
   "metadata": {},
   "source": [
    "# Save the Logistic Regression model"
   ]
  },
  {
   "cell_type": "code",
   "execution_count": 23,
   "id": "7078e555",
   "metadata": {},
   "outputs": [],
   "source": [
    "# Change model path according to your environment\n",
    "# Save the model to a specified path\n",
    "model_path = \"C:/Users/dumas/OneDrive/Documents/GitHub/CryptoSpark/logisticRegression_model\"\n",
    "\n",
    "# Save the model\n",
    "model.save(model_path)"
   ]
  }
 ],
 "metadata": {
  "kernelspec": {
   "display_name": "Python 3",
   "language": "python",
   "name": "python3"
  },
  "language_info": {
   "codemirror_mode": {
    "name": "ipython",
    "version": 3
   },
   "file_extension": ".py",
   "mimetype": "text/x-python",
   "name": "python",
   "nbconvert_exporter": "python",
   "pygments_lexer": "ipython3",
   "version": "3.13.3"
  }
 },
 "nbformat": 4,
 "nbformat_minor": 5
}
